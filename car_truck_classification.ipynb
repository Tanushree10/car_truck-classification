{
  "nbformat": 4,
  "nbformat_minor": 0,
  "metadata": {
    "colab": {
      "name": "car_truck classification.ipynb",
      "provenance": []
    },
    "kernelspec": {
      "name": "python3",
      "display_name": "Python 3"
    }
  },
  "cells": [
    {
      "cell_type": "code",
      "metadata": {
        "id": "GZm_aiGB62t8",
        "colab_type": "code",
        "colab": {}
      },
      "source": [
        "from zipfile import ZipFile\n",
        "zf = ZipFile('/content/Data.zip', 'r')\n",
        "zf.extractall('/content')\n",
        "zf.close()"
      ],
      "execution_count": 0,
      "outputs": []
    },
    {
      "cell_type": "code",
      "metadata": {
        "id": "ZB1bYEUc9knN",
        "colab_type": "code",
        "colab": {}
      },
      "source": [
        "from tensorflow.keras.models import Sequential\n",
        "from tensorflow.keras.layers import Flatten\n",
        "from tensorflow.keras.layers import Dense\n",
        "from tensorflow.keras.layers import Conv2D\n",
        "from tensorflow.keras.layers import MaxPooling2D\n",
        "from tensorflow.keras.callbacks import TensorBoard\n",
        "import tensorflow"
      ],
      "execution_count": 0,
      "outputs": []
    },
    {
      "cell_type": "code",
      "metadata": {
        "id": "auddOL2V5hUF",
        "colab_type": "code",
        "colab": {}
      },
      "source": [
        "from warnings import filterwarnings\n",
        "filterwarnings('ignore')"
      ],
      "execution_count": 0,
      "outputs": []
    },
    {
      "cell_type": "code",
      "metadata": {
        "id": "SpIqqel25nV0",
        "colab_type": "code",
        "colab": {}
      },
      "source": [
        "classifier = Sequential()\n",
        "classifier.add(Conv2D(32,(3,3),input_shape=(64,64,3),activation = 'relu'))\n",
        "classifier.add(MaxPooling2D(pool_size=(2,2),strides=2)) #if stride not given it equal to pool filter size\n",
        "classifier.add(Conv2D(32,(3,3),activation = 'relu'))\n",
        "classifier.add(MaxPooling2D(pool_size=(2,2),strides=2))\n",
        "classifier.add(Flatten())\n",
        "classifier.add(Dense(units=128,activation='relu'))\n",
        "classifier.add(Dense(units=1,activation='sigmoid'))\n",
        "adam = tensorflow.keras.optimizers.Adam(lr=0.001, beta_1=0.9, beta_2=0.999, epsilon=None, decay=0.0, amsgrad=False)\n",
        "classifier.compile(optimizer=adam,loss='binary_crossentropy',metrics=['accuracy'])"
      ],
      "execution_count": 0,
      "outputs": []
    },
    {
      "cell_type": "code",
      "metadata": {
        "id": "hdfroDMT6CT_",
        "colab_type": "code",
        "colab": {
          "base_uri": "https://localhost:8080/",
          "height": 72
        },
        "outputId": "b10c4393-e457-43f4-cee5-9a89676d5509"
      },
      "source": [
        "from tensorflow.keras.preprocessing.image import ImageDataGenerator\n",
        "train_datagen = ImageDataGenerator(rescale=1./255,\n",
        "                                   shear_range=0.1,\n",
        "                                   zoom_range=0.1,\n",
        "                                   horizontal_flip=True)\n",
        "test_datagen = ImageDataGenerator(rescale=1./255)\n",
        "\n",
        "#Training Set\n",
        "train_set = train_datagen.flow_from_directory('/content/Data/train',\n",
        "                                             target_size=(64,64),\n",
        "                                             batch_size=32,\n",
        "                                             class_mode='binary')\n",
        "#Validation Set\n",
        "test_set = test_datagen.flow_from_directory('/content/Data/test',\n",
        "                                           target_size=(64,64),\n",
        "                                           batch_size = 32,\n",
        "                                           class_mode='binary',\n",
        "                                           shuffle=False)\n",
        "#Test Set /no output available\n",
        "test_set1 = test_datagen.flow_from_directory('/content/Data/test',\n",
        "                                            target_size=(64,64),\n",
        "                                            batch_size=32,\n",
        "                                            shuffle=False)"
      ],
      "execution_count": 12,
      "outputs": [
        {
          "output_type": "stream",
          "text": [
            "Found 560 images belonging to 2 classes.\n",
            "Found 228 images belonging to 2 classes.\n",
            "Found 228 images belonging to 2 classes.\n"
          ],
          "name": "stdout"
        }
      ]
    },
    {
      "cell_type": "code",
      "metadata": {
        "id": "Hagoa_Ud7Hah",
        "colab_type": "code",
        "colab": {
          "base_uri": "https://localhost:8080/",
          "height": 1000
        },
        "outputId": "12900e38-849e-4ffc-cbe4-e0260c182b02"
      },
      "source": [
        "classifier.fit_generator(train_set,\n",
        "                        epochs = 20,\n",
        "                        validation_data = test_set,\n",
        "                        validation_steps = 20, \n",
        "                        #callbacks=[tensorboard]\n",
        "                        );"
      ],
      "execution_count": 15,
      "outputs": [
        {
          "output_type": "stream",
          "text": [
            "Epoch 1/20\n",
            "18/18 [==============================] - ETA: 0s - loss: 0.6565 - accuracy: 0.6071WARNING:tensorflow:Your input ran out of data; interrupting training. Make sure that your dataset or generator can generate at least `steps_per_epoch * epochs` batches (in this case, 20 batches). You may need to use the repeat() function when building your dataset.\n",
            "18/18 [==============================] - 6s 338ms/step - loss: 0.6565 - accuracy: 0.6071 - val_loss: 0.6701 - val_accuracy: 0.5965\n",
            "Epoch 2/20\n",
            "18/18 [==============================] - ETA: 0s - loss: 0.6318 - accuracy: 0.6125WARNING:tensorflow:Your input ran out of data; interrupting training. Make sure that your dataset or generator can generate at least `steps_per_epoch * epochs` batches (in this case, 20 batches). You may need to use the repeat() function when building your dataset.\n",
            "18/18 [==============================] - 6s 339ms/step - loss: 0.6318 - accuracy: 0.6125 - val_loss: 0.6925 - val_accuracy: 0.5702\n",
            "Epoch 3/20\n",
            "18/18 [==============================] - ETA: 0s - loss: 0.6244 - accuracy: 0.6286WARNING:tensorflow:Your input ran out of data; interrupting training. Make sure that your dataset or generator can generate at least `steps_per_epoch * epochs` batches (in this case, 20 batches). You may need to use the repeat() function when building your dataset.\n",
            "18/18 [==============================] - 6s 340ms/step - loss: 0.6244 - accuracy: 0.6286 - val_loss: 0.6934 - val_accuracy: 0.5439\n",
            "Epoch 4/20\n",
            "18/18 [==============================] - ETA: 0s - loss: 0.6138 - accuracy: 0.6661WARNING:tensorflow:Your input ran out of data; interrupting training. Make sure that your dataset or generator can generate at least `steps_per_epoch * epochs` batches (in this case, 20 batches). You may need to use the repeat() function when building your dataset.\n",
            "18/18 [==============================] - 6s 340ms/step - loss: 0.6138 - accuracy: 0.6661 - val_loss: 0.6874 - val_accuracy: 0.5789\n",
            "Epoch 5/20\n",
            "18/18 [==============================] - ETA: 0s - loss: 0.5877 - accuracy: 0.6893WARNING:tensorflow:Your input ran out of data; interrupting training. Make sure that your dataset or generator can generate at least `steps_per_epoch * epochs` batches (in this case, 20 batches). You may need to use the repeat() function when building your dataset.\n",
            "18/18 [==============================] - 6s 337ms/step - loss: 0.5877 - accuracy: 0.6893 - val_loss: 0.6603 - val_accuracy: 0.6009\n",
            "Epoch 6/20\n",
            "18/18 [==============================] - ETA: 0s - loss: 0.5628 - accuracy: 0.7357WARNING:tensorflow:Your input ran out of data; interrupting training. Make sure that your dataset or generator can generate at least `steps_per_epoch * epochs` batches (in this case, 20 batches). You may need to use the repeat() function when building your dataset.\n",
            "18/18 [==============================] - 6s 340ms/step - loss: 0.5628 - accuracy: 0.7357 - val_loss: 0.6930 - val_accuracy: 0.5702\n",
            "Epoch 7/20\n",
            "18/18 [==============================] - ETA: 0s - loss: 0.5232 - accuracy: 0.7393WARNING:tensorflow:Your input ran out of data; interrupting training. Make sure that your dataset or generator can generate at least `steps_per_epoch * epochs` batches (in this case, 20 batches). You may need to use the repeat() function when building your dataset.\n",
            "18/18 [==============================] - 6s 339ms/step - loss: 0.5232 - accuracy: 0.7393 - val_loss: 0.7642 - val_accuracy: 0.5658\n",
            "Epoch 8/20\n",
            "18/18 [==============================] - ETA: 0s - loss: 0.4973 - accuracy: 0.7446WARNING:tensorflow:Your input ran out of data; interrupting training. Make sure that your dataset or generator can generate at least `steps_per_epoch * epochs` batches (in this case, 20 batches). You may need to use the repeat() function when building your dataset.\n",
            "18/18 [==============================] - 6s 337ms/step - loss: 0.4973 - accuracy: 0.7446 - val_loss: 0.8002 - val_accuracy: 0.5702\n",
            "Epoch 9/20\n",
            "18/18 [==============================] - ETA: 0s - loss: 0.4797 - accuracy: 0.7500WARNING:tensorflow:Your input ran out of data; interrupting training. Make sure that your dataset or generator can generate at least `steps_per_epoch * epochs` batches (in this case, 20 batches). You may need to use the repeat() function when building your dataset.\n",
            "18/18 [==============================] - 6s 336ms/step - loss: 0.4797 - accuracy: 0.7500 - val_loss: 0.7880 - val_accuracy: 0.5351\n",
            "Epoch 10/20\n",
            "18/18 [==============================] - ETA: 0s - loss: 0.4779 - accuracy: 0.7643WARNING:tensorflow:Your input ran out of data; interrupting training. Make sure that your dataset or generator can generate at least `steps_per_epoch * epochs` batches (in this case, 20 batches). You may need to use the repeat() function when building your dataset.\n",
            "18/18 [==============================] - 6s 339ms/step - loss: 0.4779 - accuracy: 0.7643 - val_loss: 0.7038 - val_accuracy: 0.6096\n",
            "Epoch 11/20\n",
            "18/18 [==============================] - ETA: 0s - loss: 0.4092 - accuracy: 0.8107WARNING:tensorflow:Your input ran out of data; interrupting training. Make sure that your dataset or generator can generate at least `steps_per_epoch * epochs` batches (in this case, 20 batches). You may need to use the repeat() function when building your dataset.\n",
            "18/18 [==============================] - 6s 340ms/step - loss: 0.4092 - accuracy: 0.8107 - val_loss: 0.7464 - val_accuracy: 0.6360\n",
            "Epoch 12/20\n",
            "18/18 [==============================] - ETA: 0s - loss: 0.3986 - accuracy: 0.8429WARNING:tensorflow:Your input ran out of data; interrupting training. Make sure that your dataset or generator can generate at least `steps_per_epoch * epochs` batches (in this case, 20 batches). You may need to use the repeat() function when building your dataset.\n",
            "18/18 [==============================] - 6s 337ms/step - loss: 0.3986 - accuracy: 0.8429 - val_loss: 0.7812 - val_accuracy: 0.6579\n",
            "Epoch 13/20\n",
            "18/18 [==============================] - ETA: 0s - loss: 0.3995 - accuracy: 0.8304WARNING:tensorflow:Your input ran out of data; interrupting training. Make sure that your dataset or generator can generate at least `steps_per_epoch * epochs` batches (in this case, 20 batches). You may need to use the repeat() function when building your dataset.\n",
            "18/18 [==============================] - 6s 336ms/step - loss: 0.3995 - accuracy: 0.8304 - val_loss: 0.8484 - val_accuracy: 0.5965\n",
            "Epoch 14/20\n",
            "18/18 [==============================] - ETA: 0s - loss: 0.3305 - accuracy: 0.8607WARNING:tensorflow:Your input ran out of data; interrupting training. Make sure that your dataset or generator can generate at least `steps_per_epoch * epochs` batches (in this case, 20 batches). You may need to use the repeat() function when building your dataset.\n",
            "18/18 [==============================] - 6s 336ms/step - loss: 0.3305 - accuracy: 0.8607 - val_loss: 0.8815 - val_accuracy: 0.6096\n",
            "Epoch 15/20\n",
            "18/18 [==============================] - ETA: 0s - loss: 0.3186 - accuracy: 0.8607WARNING:tensorflow:Your input ran out of data; interrupting training. Make sure that your dataset or generator can generate at least `steps_per_epoch * epochs` batches (in this case, 20 batches). You may need to use the repeat() function when building your dataset.\n",
            "18/18 [==============================] - 6s 337ms/step - loss: 0.3186 - accuracy: 0.8607 - val_loss: 0.8456 - val_accuracy: 0.5965\n",
            "Epoch 16/20\n",
            "18/18 [==============================] - ETA: 0s - loss: 0.2895 - accuracy: 0.8893WARNING:tensorflow:Your input ran out of data; interrupting training. Make sure that your dataset or generator can generate at least `steps_per_epoch * epochs` batches (in this case, 20 batches). You may need to use the repeat() function when building your dataset.\n",
            "18/18 [==============================] - 6s 339ms/step - loss: 0.2895 - accuracy: 0.8893 - val_loss: 0.8804 - val_accuracy: 0.6228\n",
            "Epoch 17/20\n",
            "18/18 [==============================] - ETA: 0s - loss: 0.2692 - accuracy: 0.8839WARNING:tensorflow:Your input ran out of data; interrupting training. Make sure that your dataset or generator can generate at least `steps_per_epoch * epochs` batches (in this case, 20 batches). You may need to use the repeat() function when building your dataset.\n",
            "18/18 [==============================] - 6s 340ms/step - loss: 0.2692 - accuracy: 0.8839 - val_loss: 0.8531 - val_accuracy: 0.6491\n",
            "Epoch 18/20\n",
            "18/18 [==============================] - ETA: 0s - loss: 0.2791 - accuracy: 0.8893WARNING:tensorflow:Your input ran out of data; interrupting training. Make sure that your dataset or generator can generate at least `steps_per_epoch * epochs` batches (in this case, 20 batches). You may need to use the repeat() function when building your dataset.\n",
            "18/18 [==============================] - 6s 339ms/step - loss: 0.2791 - accuracy: 0.8893 - val_loss: 0.9233 - val_accuracy: 0.6184\n",
            "Epoch 19/20\n",
            "18/18 [==============================] - ETA: 0s - loss: 0.2737 - accuracy: 0.8839WARNING:tensorflow:Your input ran out of data; interrupting training. Make sure that your dataset or generator can generate at least `steps_per_epoch * epochs` batches (in this case, 20 batches). You may need to use the repeat() function when building your dataset.\n",
            "18/18 [==============================] - 6s 343ms/step - loss: 0.2737 - accuracy: 0.8839 - val_loss: 0.8946 - val_accuracy: 0.6316\n",
            "Epoch 20/20\n",
            "18/18 [==============================] - ETA: 0s - loss: 0.2114 - accuracy: 0.9196WARNING:tensorflow:Your input ran out of data; interrupting training. Make sure that your dataset or generator can generate at least `steps_per_epoch * epochs` batches (in this case, 20 batches). You may need to use the repeat() function when building your dataset.\n",
            "18/18 [==============================] - 6s 342ms/step - loss: 0.2114 - accuracy: 0.9196 - val_loss: 1.1200 - val_accuracy: 0.5921\n"
          ],
          "name": "stdout"
        }
      ]
    },
    {
      "cell_type": "code",
      "metadata": {
        "id": "0kx-RvsB7bsn",
        "colab_type": "code",
        "colab": {}
      },
      "source": [
        "import h5py\n",
        "classifier.save('project.h5')"
      ],
      "execution_count": 0,
      "outputs": []
    },
    {
      "cell_type": "code",
      "metadata": {
        "id": "fuE6CtVK7hlJ",
        "colab_type": "code",
        "colab": {}
      },
      "source": [
        "from tensorflow.keras.models import load_model\n",
        "classifier = load_model('project.h5')"
      ],
      "execution_count": 0,
      "outputs": []
    },
    {
      "cell_type": "code",
      "metadata": {
        "id": "f4MVIhnw7oUp",
        "colab_type": "code",
        "colab": {
          "base_uri": "https://localhost:8080/",
          "height": 268
        },
        "outputId": "1af6115b-0cf6-4e85-86ab-082dbff1a18a"
      },
      "source": [
        "import tensorflow\n",
        "from tensorflow.keras.preprocessing import image\n",
        "import matplotlib.pyplot as plt\n",
        "import numpy as np\n",
        "img1 = image.load_img('/content/Data/test/truck/68548902.jpg', target_size=(64, 64))\n",
        "img = image.img_to_array(img1)\n",
        "img = img/255\n",
        "# create a batch of size 1 [N,H,W,C]\n",
        "img = np.expand_dims(img, axis=0)\n",
        "prediction = classifier.predict(img, batch_size=None,steps=1) #gives all class prob.\n",
        "if(prediction[:,:]>0.5):\n",
        "    value ='Truck :%1.2f'%(prediction[0,0])\n",
        "    plt.text(20, 62,value,color='red',fontsize=18,bbox=dict(facecolor='white',alpha=0.8))\n",
        "else:\n",
        "    value ='Car :%1.2f'%(1.0-prediction[0,0])\n",
        "    plt.text(20, 62,value,color='red',fontsize=18,bbox=dict(facecolor='white',alpha=0.8))\n",
        "\n",
        "plt.imshow(img1)\n",
        "plt.show()"
      ],
      "execution_count": 25,
      "outputs": [
        {
          "output_type": "display_data",
          "data": {
            "image/png": "[encoded data removed]",
            "text/plain": [
              "<Figure size 432x288 with 1 Axes>"
            ]
          },
          "metadata": {
            "tags": [],
            "needs_background": "light"
          }
        }
      ]
    }
  ]
}